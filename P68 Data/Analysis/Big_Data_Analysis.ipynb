{
 "cells": [
  {
   "cell_type": "code",
   "execution_count": 1,
   "id": "1af825be",
   "metadata": {},
   "outputs": [],
   "source": [
    "import pandas as pd\n",
    "\n",
    "df = pd.read_csv('P68100ms.csv')"
   ]
  },
  {
   "cell_type": "code",
   "execution_count": 4,
   "id": "80639639",
   "metadata": {},
   "outputs": [
    {
     "name": "stdout",
     "output_type": "stream",
     "text": [
      "<class 'pandas.core.frame.DataFrame'>\n",
      "RangeIndex: 3270357 entries, 0 to 3270356\n",
      "Data columns (total 63 columns):\n",
      " #   Column           Dtype  \n",
      "---  ------           -----  \n",
      " 0   Time             object \n",
      " 1   DM               float64\n",
      " 2   DL               float64\n",
      " 3   DN               float64\n",
      " 4   DV1              float64\n",
      " 5   DTM              float64\n",
      " 6   DTN              float64\n",
      " 7   EDM              float64\n",
      " 8   EDN              float64\n",
      " 9   ALF              float64\n",
      " 10  BET              float64\n",
      " 11  MAPG             float64\n",
      " 12  MAPD             float64\n",
      " 13  FU1              float64\n",
      " 14  FU2              float64\n",
      " 15  NP1              float64\n",
      " 16  NP2              float64\n",
      " 17  FF1              float64\n",
      " 18  FF2              float64\n",
      " 19  P20SysStatus     int64  \n",
      " 20  P20FilterStatus  int64  \n",
      " 21  Lat              float64\n",
      " 22  Lon              float64\n",
      " 23  Height           float64\n",
      " 24  Vnorth           float64\n",
      " 25  Veast            float64\n",
      " 26  Vdown            float64\n",
      " 27  Acc_xb           float64\n",
      " 28  Acc_yb           float64\n",
      " 29  Acc_zb           float64\n",
      " 30  Gforce           float64\n",
      " 31  Roll             float64\n",
      " 32  Pitch            float64\n",
      " 33  Heading          float64\n",
      " 34  P                float64\n",
      " 35  Q                float64\n",
      " 36  R                float64\n",
      " 37  Acc_xb_raw       float64\n",
      " 38  Acc_yb_raw       float64\n",
      " 39  Acc_zb_raw       float64\n",
      " 40  P_raw            float64\n",
      " 41  Q_raw            float64\n",
      " 42  R_raw            float64\n",
      " 43  Mag_xb_raw       float64\n",
      " 44  Mag_yb_raw       float64\n",
      " 45  Mag_zb_raw       float64\n",
      " 46  IMU_Temp         float64\n",
      " 47  LatGPS           float64\n",
      " 48  LonGPS           float64\n",
      " 49  HeightGPS        float64\n",
      " 50  VnorthGPS        float64\n",
      " 51  VeastGPS         float64\n",
      " 52  VdownGPS         float64\n",
      " 53  TiltGPS          float64\n",
      " 54  HeadingGPS       float64\n",
      " 55  P29StatusGPS     int64  \n",
      " 56  DeltaP           float64\n",
      " 57  Ps               float64\n",
      " 58  IAS              float64\n",
      " 59  Zp               float64\n",
      " 60  SAT              float64\n",
      " 61  Vz               float64\n",
      " 62  Status_Sim       int64  \n",
      "dtypes: float64(58), int64(4), object(1)\n",
      "memory usage: 1.5+ GB\n",
      "None\n"
     ]
    }
   ],
   "source": [
    "print(df.info()) "
   ]
  },
  {
   "cell_type": "code",
   "execution_count": null,
   "id": "c39b2f1d",
   "metadata": {},
   "outputs": [],
   "source": []
  }
 ],
 "metadata": {
  "kernelspec": {
   "display_name": "Python 3 (ipykernel)",
   "language": "python",
   "name": "python3"
  },
  "language_info": {
   "codemirror_mode": {
    "name": "ipython",
    "version": 3
   },
   "file_extension": ".py",
   "mimetype": "text/x-python",
   "name": "python",
   "nbconvert_exporter": "python",
   "pygments_lexer": "ipython3",
   "version": "3.11.4"
  }
 },
 "nbformat": 4,
 "nbformat_minor": 5
}
